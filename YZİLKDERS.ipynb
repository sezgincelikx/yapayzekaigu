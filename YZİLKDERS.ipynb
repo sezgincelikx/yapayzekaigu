{
  "nbformat": 4,
  "nbformat_minor": 0,
  "metadata": {
    "colab": {
      "provenance": []
    },
    "kernelspec": {
      "name": "python3",
      "display_name": "Python 3"
    },
    "language_info": {
      "name": "python"
    }
  },
  "cells": [
    {
      "cell_type": "markdown",
      "source": [
        "igu 30.09.2024 ders notu kodları"
      ],
      "metadata": {
        "id": "DVKNILFRCFdW"
      }
    },
    {
      "cell_type": "code",
      "execution_count": 3,
      "metadata": {
        "colab": {
          "base_uri": "https://localhost:8080/"
        },
        "id": "hK_TQQ4nBHW_",
        "outputId": "1c325e64-79d4-4507-fbbb-9dfe85c0c829"
      },
      "outputs": [
        {
          "output_type": "stream",
          "name": "stdout",
          "text": [
            "Merhaba IGU MYO YZ\n"
          ]
        }
      ],
      "source": [
        "print(\"Merhaba IGU MYO YZ\") # ilk python programi ciktisidir."
      ]
    },
    {
      "cell_type": "code",
      "source": [
        "import sys\n",
        "print(sys.version)"
      ],
      "metadata": {
        "colab": {
          "base_uri": "https://localhost:8080/"
        },
        "id": "-4DW2z1CGUJW",
        "outputId": "2de0ac34-1aa3-446e-93d5-3441010ee760"
      },
      "execution_count": 4,
      "outputs": [
        {
          "output_type": "stream",
          "name": "stdout",
          "text": [
            "3.10.12 (main, Sep 11 2024, 15:47:36) [GCC 11.4.0]\n"
          ]
        }
      ]
    },
    {
      "cell_type": "code",
      "source": [
        "from google.colab import drive\n",
        "drive.mount(\"/content/drive\")"
      ],
      "metadata": {
        "colab": {
          "base_uri": "https://localhost:8080/"
        },
        "id": "MA9KknOsGoel",
        "outputId": "8b4f6dcc-e125-4c59-df77-b6fa6bd8ad4f"
      },
      "execution_count": 8,
      "outputs": [
        {
          "output_type": "stream",
          "name": "stdout",
          "text": [
            "Mounted at /content/drive\n"
          ]
        }
      ]
    },
    {
      "cell_type": "code",
      "source": [
        "import os\n",
        "os.chdir('/content/drive/My Drive/YZİGU')\n"
      ],
      "metadata": {
        "id": "zUkbka6fIgi5"
      },
      "execution_count": 12,
      "outputs": []
    }
  ]
}